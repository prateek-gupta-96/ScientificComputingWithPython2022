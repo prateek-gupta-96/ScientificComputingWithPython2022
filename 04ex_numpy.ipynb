{
 "cells": [
  {
   "cell_type": "markdown",
   "metadata": {},
   "source": [
    "1\\. **Reductions**\n",
    "\n",
    "Find the total mean, and the mean for each row and column of the following matrix:\n",
    "\n",
    "```python\n",
    "m = np.arange(12).reshape((3,4))\n",
    "```"
   ]
  },
  {
   "cell_type": "code",
   "execution_count": 2,
   "metadata": {},
   "outputs": [
    {
     "name": "stdout",
     "output_type": "stream",
     "text": [
      "\n",
      "Matrix:\n",
      " [[ 0  1  2  3]\n",
      " [ 4  5  6  7]\n",
      " [ 8  9 10 11]]\n",
      "\n",
      "Total Mean: 5.5\n",
      "\n",
      "Mean of each row: [1.5, 5.5, 9.5]\n",
      "\n",
      "Mean of each column: [4.0, 5.0, 6.0, 7.0]\n"
     ]
    }
   ],
   "source": [
    "import numpy as np\n",
    "m = np.arange(12).reshape((3,4))\n",
    "total_mean = m.mean()\n",
    "\n",
    "row_means = [m[i,:].mean() for i in range(m.shape[0])]\n",
    "column_means = [m[:,j].mean() for j in range(m.shape[1])]\n",
    "\n",
    "print('\\nMatrix:\\n',m)\n",
    "print(\"\\nTotal Mean:\", total_mean)\n",
    "print('\\nMean of each row:',row_means)\n",
    "print('\\nMean of each column:',column_means)"
   ]
  },
  {
   "cell_type": "markdown",
   "metadata": {},
   "source": [
    "2\\. **Outer product**\n",
    "\n",
    "Find the outer product of the following vectors:\n",
    "\n",
    "```python\n",
    "u = np.array([1, 3, 5, 7])\n",
    "v = np.array([2, 4, 6, 8])\n",
    "```\n",
    "\n",
    "Use different methods to do this:\n",
    "\n",
    "   1. Using the function `outer` in numpy\n",
    "   2. Using a nested `for` loop or a list comprehension\n",
    "   3. Using numpy broadcasting operations"
   ]
  },
  {
   "cell_type": "code",
   "execution_count": 3,
   "metadata": {},
   "outputs": [
    {
     "name": "stdout",
     "output_type": "stream",
     "text": [
      "\n",
      "Outer Product with numpy's outer:\n",
      " [[ 2  4  6  8]\n",
      " [ 6 12 18 24]\n",
      " [10 20 30 40]\n",
      " [14 28 42 56]]\n",
      "\n",
      "Outer Product with list comprehension:\n",
      " [[ 2  4  6  8]\n",
      " [ 6 12 18 24]\n",
      " [10 20 30 40]\n",
      " [14 28 42 56]]\n",
      "\n",
      "Outer Product with broadcasting operations:\n",
      " [[ 2  4  6  8]\n",
      " [ 6 12 18 24]\n",
      " [10 20 30 40]\n",
      " [14 28 42 56]]\n"
     ]
    }
   ],
   "source": [
    "u = np.array([1, 3, 5, 7])\n",
    "v = np.array([2, 4, 6, 8])\n",
    "\n",
    "# Method 1\n",
    "m1_output = np.outer(u,v)\n",
    "print('\\nOuter Product with numpy\\'s outer:\\n',m1_output)\n",
    "\n",
    "#Method 2\n",
    "m2_output = [i*j for i in u for j in v]\n",
    "m2_output = np.array(m2_output).reshape(len(u),len(v))\n",
    "print('\\nOuter Product with list comprehension:\\n',m2_output)\n",
    "\n",
    "#Method 3\n",
    "ub = np.tile(u,(4,1))\n",
    "vb = np.tile(v,(4,1))\n",
    "m3_output = ub.T * vb\n",
    "print('\\nOuter Product with broadcasting operations:\\n',m3_output)"
   ]
  },
  {
   "cell_type": "markdown",
   "metadata": {},
   "source": [
    "3\\. **Matrix masking**\n",
    "\n",
    "Create a 10 by 6 matrix of float random numbers, distributed between 0 and 3 according to a flat distribution.\n",
    "\n",
    "After creating the matrix, set all entries $< 0.3$ to zero using a mask."
   ]
  },
  {
   "cell_type": "code",
   "execution_count": 4,
   "metadata": {},
   "outputs": [
    {
     "name": "stdout",
     "output_type": "stream",
     "text": [
      "\n",
      "Original Matrix:\n",
      " [[0.57455835 1.86632631 1.31318322 2.35607575 2.33992742 0.81777782]\n",
      " [0.82939277 2.40561653 2.87441806 2.6277979  1.07345181 1.50298538]\n",
      " [2.05038881 2.13810608 1.11075226 1.68358856 1.5092495  0.04130535]\n",
      " [2.31847986 2.64792357 1.09465795 1.84618854 0.22614372 1.10647202]\n",
      " [2.79942031 1.95413443 1.19160773 2.36619043 0.95050837 1.70429596]\n",
      " [2.60738217 1.30852027 2.40644293 0.43130047 2.11278291 2.11374392]\n",
      " [0.65637632 2.77460289 1.32642227 2.72794788 0.17942767 0.55286125]\n",
      " [0.14206584 2.02464283 1.78387434 1.59993049 0.12997219 1.68429924]\n",
      " [0.98900534 1.5089005  0.33568295 1.82158112 1.69783393 0.02029219]\n",
      " [1.85232513 2.73636866 2.3715724  2.9762444  2.87640529 2.37589241]]\n",
      "\n",
      "Final Matrix:\n",
      " [[0.57455835 1.86632631 1.31318322 2.35607575 2.33992742 0.81777782]\n",
      " [0.82939277 2.40561653 2.87441806 2.6277979  1.07345181 1.50298538]\n",
      " [2.05038881 2.13810608 1.11075226 1.68358856 1.5092495  0.        ]\n",
      " [2.31847986 2.64792357 1.09465795 1.84618854 0.         1.10647202]\n",
      " [2.79942031 1.95413443 1.19160773 2.36619043 0.95050837 1.70429596]\n",
      " [2.60738217 1.30852027 2.40644293 0.43130047 2.11278291 2.11374392]\n",
      " [0.65637632 2.77460289 1.32642227 2.72794788 0.         0.55286125]\n",
      " [0.         2.02464283 1.78387434 1.59993049 0.         1.68429924]\n",
      " [0.98900534 1.5089005  0.33568295 1.82158112 1.69783393 0.        ]\n",
      " [1.85232513 2.73636866 2.3715724  2.9762444  2.87640529 2.37589241]]\n"
     ]
    }
   ],
   "source": [
    "np.random.seed(1234)\n",
    "mat = np.random.uniform(0,3,(10,6))\n",
    "print('\\nOriginal Matrix:\\n',mat)\n",
    "mat[mat < 0.3] = 0\n",
    "print('\\nFinal Matrix:\\n', mat)"
   ]
  },
  {
   "cell_type": "markdown",
   "metadata": {},
   "source": [
    "4\\. **Trigonometric functions**\n",
    "\n",
    "Use `np.linspace` to create an array of 100 numbers between $0$ and $2\\pi$ (inclusive).\n",
    "\n",
    "  * Extract every 10th element using the slice notation\n",
    "  * Reverse the array using the slice notation\n",
    "  * Extract elements where the absolute difference between the `sin` and `cos` functions evaluated for that element is $< 0.1$\n",
    "  * **Optional**: make a plot showing the sin and cos functions and indicate where they are close"
   ]
  },
  {
   "cell_type": "code",
   "execution_count": 5,
   "metadata": {},
   "outputs": [
    {
     "name": "stdout",
     "output_type": "stream",
     "text": [
      "\n",
      "Original Array:\n",
      " [0.         0.06346652 0.12693304 0.19039955 0.25386607 0.31733259\n",
      " 0.38079911 0.44426563 0.50773215 0.57119866 0.63466518 0.6981317\n",
      " 0.76159822 0.82506474 0.88853126 0.95199777 1.01546429 1.07893081\n",
      " 1.14239733 1.20586385 1.26933037 1.33279688 1.3962634  1.45972992\n",
      " 1.52319644 1.58666296 1.65012947 1.71359599 1.77706251 1.84052903\n",
      " 1.90399555 1.96746207 2.03092858 2.0943951  2.15786162 2.22132814\n",
      " 2.28479466 2.34826118 2.41172769 2.47519421 2.53866073 2.60212725\n",
      " 2.66559377 2.72906028 2.7925268  2.85599332 2.91945984 2.98292636\n",
      " 3.04639288 3.10985939 3.17332591 3.23679243 3.30025895 3.36372547\n",
      " 3.42719199 3.4906585  3.55412502 3.61759154 3.68105806 3.74452458\n",
      " 3.8079911  3.87145761 3.93492413 3.99839065 4.06185717 4.12532369\n",
      " 4.1887902  4.25225672 4.31572324 4.37918976 4.44265628 4.5061228\n",
      " 4.56958931 4.63305583 4.69652235 4.75998887 4.82345539 4.88692191\n",
      " 4.95038842 5.01385494 5.07732146 5.14078798 5.2042545  5.26772102\n",
      " 5.33118753 5.39465405 5.45812057 5.52158709 5.58505361 5.64852012\n",
      " 5.71198664 5.77545316 5.83891968 5.9023862  5.96585272 6.02931923\n",
      " 6.09278575 6.15625227 6.21971879 6.28318531]\n",
      "\n",
      "Every 10th Element: [0.57119866 1.20586385 1.84052903 2.47519421 3.10985939 3.74452458\n",
      " 4.37918976 5.01385494 5.64852012 6.28318531]\n",
      "\n",
      "Reverse Array: [6.28318531 6.21971879 6.15625227 6.09278575 6.02931923 5.96585272\n",
      " 5.9023862  5.83891968 5.77545316 5.71198664 5.64852012 5.58505361\n",
      " 5.52158709 5.45812057 5.39465405 5.33118753 5.26772102 5.2042545\n",
      " 5.14078798 5.07732146 5.01385494 4.95038842 4.88692191 4.82345539\n",
      " 4.75998887 4.69652235 4.63305583 4.56958931 4.5061228  4.44265628\n",
      " 4.37918976 4.31572324 4.25225672 4.1887902  4.12532369 4.06185717\n",
      " 3.99839065 3.93492413 3.87145761 3.8079911  3.74452458 3.68105806\n",
      " 3.61759154 3.55412502 3.4906585  3.42719199 3.36372547 3.30025895\n",
      " 3.23679243 3.17332591 3.10985939 3.04639288 2.98292636 2.91945984\n",
      " 2.85599332 2.7925268  2.72906028 2.66559377 2.60212725 2.53866073\n",
      " 2.47519421 2.41172769 2.34826118 2.28479466 2.22132814 2.15786162\n",
      " 2.0943951  2.03092858 1.96746207 1.90399555 1.84052903 1.77706251\n",
      " 1.71359599 1.65012947 1.58666296 1.52319644 1.45972992 1.3962634\n",
      " 1.33279688 1.26933037 1.20586385 1.14239733 1.07893081 1.01546429\n",
      " 0.95199777 0.88853126 0.82506474 0.76159822 0.6981317  0.63466518\n",
      " 0.57119866 0.50773215 0.44426563 0.38079911 0.31733259 0.25386607\n",
      " 0.19039955 0.12693304 0.06346652 0.        ]\n",
      "\n",
      "Elements <0.1: [0.03365503 0.0560823  0.07849545 0.01121928]\n"
     ]
    }
   ],
   "source": [
    "trig = np.linspace(0, 2*np.pi,100)\n",
    "\n",
    "print('\\nOriginal Array:\\n',trig)\n",
    "\n",
    "#Every 10th element\n",
    "elem_ten = trig [9::10]\n",
    "print('\\nEvery 10th Element:', elem_ten)\n",
    "\n",
    "#Array Reversal\n",
    "print('\\nReverse Array:', trig[::-1])\n",
    "\n",
    "#Absolute Difference\n",
    "trig_diff = abs(np.sin(trig) - np.cos(trig))\n",
    "print('\\nElements <0.1:', trig_diff[trig_diff < 0.1])"
   ]
  },
  {
   "cell_type": "markdown",
   "metadata": {},
   "source": [
    "5\\. **Matrices**\n",
    "\n",
    "Create a matrix that shows the 10 by 10 multiplication table.\n",
    "\n",
    " * Find the trace of the matrix\n",
    " * Extract the anti-diagonal matrix (this should be ```array([10, 18, 24, 28, 30, 30, 28, 24, 18, 10])```)\n",
    " * Extract the diagonal offset by 1 upwards (this should be ```array([ 2,  6, 12, 20, 30, 42, 56, 72, 90])```)"
   ]
  },
  {
   "cell_type": "code",
   "execution_count": 6,
   "metadata": {},
   "outputs": [
    {
     "name": "stdout",
     "output_type": "stream",
     "text": [
      "\n",
      "Original 10 x 10 Multiplication Matrix:\n",
      " [[  1   2   3   4   5   6   7   8   9  10]\n",
      " [  2   4   6   8  10  12  14  16  18  20]\n",
      " [  3   6   9  12  15  18  21  24  27  30]\n",
      " [  4   8  12  16  20  24  28  32  36  40]\n",
      " [  5  10  15  20  25  30  35  40  45  50]\n",
      " [  6  12  18  24  30  36  42  48  54  60]\n",
      " [  7  14  21  28  35  42  49  56  63  70]\n",
      " [  8  16  24  32  40  48  56  64  72  80]\n",
      " [  9  18  27  36  45  54  63  72  81  90]\n",
      " [ 10  20  30  40  50  60  70  80  90 100]]\n",
      "\n",
      "Trace of the matrix: 385\n",
      "\n",
      "Anti-Diagonal Matrix: [10 18 24 28 30 30 28 24 18 10]\n",
      "\n",
      "Offset-Diagonal Matrix: [ 2  6 12 20 30 42 56 72 90]\n"
     ]
    }
   ],
   "source": [
    "ten_by_ten = np.array([i*j for i in range(1,11) for j in range(1,11)]).reshape(10,10)\n",
    "\n",
    "print('\\nOriginal 10 x 10 Multiplication Matrix:\\n',ten_by_ten)\n",
    "\n",
    "#Trace of the Matrix\n",
    "trace = np.diag(ten_by_ten).sum()\n",
    "print('\\nTrace of the matrix:',trace)\n",
    "\n",
    "#Anti-diagonal matrix\n",
    "anti_diagonal = np.diag(ten_by_ten[::-1])\n",
    "print('\\nAnti-Diagonal Matrix:',anti_diagonal)\n",
    "\n",
    "#Diagonal offset by 1\n",
    "offset_diagonal = np.diag(ten_by_ten,k=1)\n",
    "print('\\nOffset-Diagonal Matrix:',offset_diagonal)"
   ]
  },
  {
   "cell_type": "markdown",
   "metadata": {},
   "source": [
    "6\\. **Broadcasting**\n",
    "\n",
    "Use broadcasting to create a grid of distances.\n",
    "\n",
    "Route 66 crosses the following cities in the US: Chicago, Springfield, Saint-Louis, Tulsa, Oklahoma City, Amarillo, Santa Fe, Albuquerque, Flagstaff, Los Angeles.\n",
    "\n",
    "The corresponding positions in miles are: 0, 198, 303, 736, 871, 1175, 1475, 1544, 1913, 2448\n",
    "\n",
    "  * Build a 2D grid of distances among each city along Route 66\n",
    "  * Convert the distances in km"
   ]
  },
  {
   "cell_type": "code",
   "execution_count": 7,
   "metadata": {
    "scrolled": true
   },
   "outputs": [
    {
     "name": "stdout",
     "output_type": "stream",
     "text": [
      "\n",
      "2D Grid of distances among each city along Route66:\n",
      " [[   0  198  303  736  871 1175 1475 1544 1913 2448]\n",
      " [ 198    0  105  538  673  977 1277 1346 1715 2250]\n",
      " [ 303  105    0  433  568  872 1172 1241 1610 2145]\n",
      " [ 736  538  433    0  135  439  739  808 1177 1712]\n",
      " [ 871  673  568  135    0  304  604  673 1042 1577]\n",
      " [1175  977  872  439  304    0  300  369  738 1273]\n",
      " [1475 1277 1172  739  604  300    0   69  438  973]\n",
      " [1544 1346 1241  808  673  369   69    0  369  904]\n",
      " [1913 1715 1610 1177 1042  738  438  369    0  535]\n",
      " [2448 2250 2145 1712 1577 1273  973  904  535    0]]\n",
      "\n",
      "2D Grid with distances in km:\n",
      " [[   0.       318.64932  487.63002 1184.47424 1401.73514 1890.9745\n",
      "  2373.7765  2484.82096 3078.66742 3939.66432]\n",
      " [ 318.64932    0.       168.9807   865.82492 1083.08582 1572.32518\n",
      "  2055.12718 2166.17164 2760.0181  3621.015  ]\n",
      " [ 487.63002  168.9807     0.       696.84422  914.10512 1403.34448\n",
      "  1886.14648 1997.19094 2591.0374  3452.0343 ]\n",
      " [1184.47424  865.82492  696.84422    0.       217.2609   706.50026\n",
      "  1189.30226 1300.34672 1894.19318 2755.19008]\n",
      " [1401.73514 1083.08582  914.10512  217.2609     0.       489.23936\n",
      "   972.04136 1083.08582 1676.93228 2537.92918]\n",
      " [1890.9745  1572.32518 1403.34448  706.50026  489.23936    0.\n",
      "   482.802    593.84646 1187.69292 2048.68982]\n",
      " [2373.7765  2055.12718 1886.14648 1189.30226  972.04136  482.802\n",
      "     0.       111.04446  704.89092 1565.88782]\n",
      " [2484.82096 2166.17164 1997.19094 1300.34672 1083.08582  593.84646\n",
      "   111.04446    0.       593.84646 1454.84336]\n",
      " [3078.66742 2760.0181  2591.0374  1894.19318 1676.93228 1187.69292\n",
      "   704.89092  593.84646    0.       860.9969 ]\n",
      " [3939.66432 3621.015   3452.0343  2755.19008 2537.92918 2048.68982\n",
      "  1565.88782 1454.84336  860.9969     0.     ]]\n"
     ]
    }
   ],
   "source": [
    "dist_arr = np.array([0, 198, 303, 736, 871, 1175, 1475, 1544, 1913, 2448])\n",
    "num_cities = len(dist_arr)\n",
    "grid = np.array([abs(i-j) for i in dist_arr for j in dist_arr]).reshape(num_cities,num_cities)\n",
    "\n",
    "# 2D Grid\n",
    "print('\\n2D Grid of distances among each city along Route66:\\n',grid)\n",
    "\n",
    "# Distances in km\n",
    "grid_km = grid * 1.60934 # 1 mile = 1.60934km\n",
    "print('\\n2D Grid with distances in km:\\n',grid_km)"
   ]
  },
  {
   "cell_type": "markdown",
   "metadata": {},
   "source": [
    "7\\. **Prime numbers sieve**\n",
    "\n",
    "Compute the prime numbers in the 0-N (start with N=99) range with a sieve (mask).\n",
    "\n",
    "  * Constract a shape (N,) boolean array, which is the mask\n",
    "  * Identify the multiples of each number starting from 2 and set accordingly the corresponding mask element\n",
    "  * Apply the mask to obtain an array of ordered prime numbers\n",
    "  * Check the performances (with `timeit`); how does it scale with N?\n",
    "  * Implement the optimization suggested in the [sieve of Eratosthenes](https://en.wikipedia.org/wiki/Sieve_of_Eratosthenes)"
   ]
  },
  {
   "cell_type": "code",
   "execution_count": 8,
   "metadata": {},
   "outputs": [
    {
     "name": "stdout",
     "output_type": "stream",
     "text": [
      "[ 2  3  5  7 11 13 17 19 23 29 31 37 41 43 47 53 59 61 67 71 73 79 83 89\n",
      " 97]\n",
      "1.48 s ± 64.5 ms per loop (mean ± std. dev. of 7 runs, 1 loop each)\n"
     ]
    }
   ],
   "source": [
    "def is_prime(n):\n",
    "    flag = True\n",
    "    if n < 2:\n",
    "        return False\n",
    "    if n >= 2:\n",
    "        for i in range(2,n):\n",
    "            if (n%i == 0):\n",
    "                flag = False\n",
    "                break\n",
    "    return flag\n",
    "\n",
    "def getPrimes(x):\n",
    "    num = np.arange(0,x)\n",
    "    mask = [is_prime(x) for x in num]\n",
    "    prime_numbers = num[mask]\n",
    "    return prime_numbers\n",
    "\n",
    "print(getPrimes(99))\n",
    "\n",
    "%timeit getPrimes(9900)"
   ]
  },
  {
   "cell_type": "code",
   "execution_count": 9,
   "metadata": {},
   "outputs": [
    {
     "name": "stdout",
     "output_type": "stream",
     "text": [
      "[ 2  3  5  7 11 13 17 19 23 29 31 37 41 43 47 53 59 61 67 71 73 79 83 89\n",
      " 97]\n",
      "2.13 ms ± 37.8 µs per loop (mean ± std. dev. of 7 runs, 100 loops each)\n"
     ]
    },
    {
     "data": {
      "text/plain": [
       "'\\nThe first prime number computation scales quite poorly.\\nThe Sieve of Erasthothenes optimization improves performace significantly as can be seen when run for N = 9900.\\n\\nFor N = 9900, the first method takes around 1.37s whereas the Sieve method yields a runtime of 2.06 ms, \\nwhich is a significant improvement.\\n\\n'"
      ]
     },
     "execution_count": 9,
     "metadata": {},
     "output_type": "execute_result"
    }
   ],
   "source": [
    "# Sieve of Eratosthenes\n",
    "\n",
    "def prime(n):\n",
    "    num = np.arange(0,n)\n",
    "    mask = [True] * n\n",
    "    \n",
    "    mask[0] = mask[1] = False\n",
    "    \n",
    "    p = 2\n",
    "    for (i,prime) in enumerate(mask):\n",
    "        if (i > p or p ==2 )and prime:\n",
    "            p = i\n",
    "            for i in range(2*p,n,p):\n",
    "                mask[i] = False\n",
    "    num = num[mask]   \n",
    "    return num\n",
    "\n",
    "print(prime(99)) \n",
    "\n",
    "%timeit prime(9900)\n",
    "\n",
    "'''\n",
    "The first prime number computation scales quite poorly.\n",
    "The Sieve of Erasthothenes optimization improves performace significantly as can be seen when run for N = 9900.\n",
    "\n",
    "For N = 9900, the first method takes around 1.37s whereas the Sieve method yields a runtime of 2.06 ms, \n",
    "which is a significant improvement.\n",
    "\n",
    "'''"
   ]
  },
  {
   "cell_type": "markdown",
   "metadata": {},
   "source": [
    "8\\. **Diffusion using random walk**\n",
    "\n",
    "Consider a simple random walk process: at each step in time, a walker jumps right or left (+1 or -1) with equal probability. The goal is to find the typical distance from the origin of many random walkers after a given amount of time.\n",
    "\n",
    "*Hint*: create a 2D array where each row represents a walker, and each column represents a time step.\n",
    "\n",
    "  * Take 1000 walkers and let them walk for 200 steps\n",
    "  * Use `randint` to create a 2D array of size $walkers \\times steps$ with values -1 or 1\n",
    "  * Calculate the walking distances for each walker (e.g. by summing the elements in each row)\n",
    "  * Take the square of the previously-obtained array (element-wise)\n",
    "  * Compute the mean of the squared distances at each step (i.e. the mean along the columns)\n",
    "  * **Optional**: plot the average distances ($\\sqrt(distance^2)$) as a function of time (step)"
   ]
  },
  {
   "cell_type": "code",
   "execution_count": 38,
   "metadata": {},
   "outputs": [
    {
     "name": "stdout",
     "output_type": "stream",
     "text": [
      "\n",
      "Walker_Distance:\n",
      " [-10  10 -10 -16  20   8  12  -6 -18 -16  14   0 -14   4   6   0   2 -18\n",
      "   2   6 -28 -10 -12  12 -10  -2 -16 -20  12  10  -8   4   2   2   8   4\n",
      "  -4   0   4  -4  -2  14  28  30   8 -16  12  -6  -6  12 -14   0   0 -18\n",
      "  -2 -18  -6 -12 -30  16   0 -12 -22  14  -2 -14   8 -12   8 -16 -10   2\n",
      "  -6   6  20  -8   0   6   6  -8   4  26   8 -12  -2  -4  -2 -10  14  -2\n",
      "  -2  -4   4  12   6 -16  10 -18  14  28  -8  16   8  -6 -24  -6  12   8\n",
      " -28 -12  -8  10  12  14  12  -8 -14   8 -14 -16  -8   0  -8  22  16   8\n",
      " -22  -8  -4 -20  32   4   6 -18   0  12  -6   2 -12 -24 -12   4   4  -2\n",
      "  -4   4  10 -24   2  16   6  14  -6   6 -26  -4   0 -16 -16 -12  -8  -4\n",
      "  -2 -30 -14   2  30 -18  16  22 -20   6 -10   8  10  12 -10   2   0 -24\n",
      "   4  -4   4 -12   6  32  -2 -14 -14   4   2 -12 -20 -12   0  -6  -2 -18\n",
      "  12 -22  -6 -38  12   6   6 -22   8  -8 -22  12 -10  -8  -8  14 -36   0\n",
      "  -6   4  24  26  24  -4  10 -14 -12   2  12   2   8 -16   0  -4  16 -28\n",
      "   2 -26   0  -6  10  -8   6 -14  28 -12 -22  12  18 -16 -20   0   0  -2\n",
      "  -6  18 -10   0   2  12 -14  -4   0   4  -8  14  24  -4   2  -4   2   0\n",
      "   8  -8  -6   6  36 -30  -4   8 -18   0 -22  10   4  12   8 -12 -20  28\n",
      "   0  -4  20 -10  28  26  30   2   0  -6 -20 -38 -38  -4   4   6 -20 -12\n",
      " -16   6  -8   4  -2 -10 -18   0  -2   8  12 -16 -18 -18   4 -10 -20  10\n",
      "   6 -10   4   0 -10  -6 -12  24 -16  -6   4 -16  10   4 -12 -22   2 -16\n",
      "  -2  40   4 -14  -6   2 -22  12  10   2   0   8   0  -8  22   0   0 -30\n",
      " -10 -30  12  -4   8  14   0   2  10  18  12   2   4  -6  18 -12  -6   2\n",
      "  -6 -14 -14  18  14  14  -8 -10  38 -10 -12  -2 -22  22  14  10   6 -28\n",
      "   0  -8  20   2  22  -2   0   6 -10  -2   0   0  -4  14  -2   4   2 -14\n",
      "  -2  -2 -20  -8 -12   0  -2  18 -14 -20  32   8   8  18   2   6  -4   8\n",
      "  20 -18 -18   2  -6 -18 -16  14   8 -10 -16  14  32 -22  -4  14  -2 -10\n",
      "   0   4  16  18  10 -14  12   4   8   0  22   0  10 -16  10  -2  -2   0\n",
      "   8  18 -20   2   0   6   0   0   0   8  18   2  -8   6  -8   0  14  -6\n",
      "   6  -2  24   6 -12   6  28  16  18 -10 -12  10  -2  -4  -6  -8   8   6\n",
      "  -2 -18 -24   6   2  -8 -10  12  26   2  14 -20 -10   0  14  -4   8  -6\n",
      "   6 -22  -6  -4 -22 -28  10   8 -14  32  20   0   4 -16  12   0   2  10\n",
      "  12  10 -22  -4   6   4   4   2  -2 -30  22  14 -28   0  24 -16   8  22\n",
      " -16  -2   8  18  -8 -10 -32   8 -18 -16   2  -2 -14 -22 -42   0   0   4\n",
      "  -4   2  20  28 -24  10   0  18  -6  -4  -4 -18 -22  -4  34  14   4   0\n",
      "  12   4  20  -8   6  10 -24  -4  -8  10  24  18  -4   6   6  22   0   6\n",
      "  -8 -24  16   6   0   4  24 -20   6  14  10   8 -28 -18 -32  18  -8  20\n",
      "   0 -18   0  -6  -2   6 -26  30  -4  24   4  12   8   4  12  24 -26  32\n",
      "   4 -36 -26   2  10 -12  18  18   6 -14  22 -14   0   0  -6 -12   6 -12\n",
      "   0   2  -8  18   8 -10   2 -24   8 -12   2  -6  -6  14 -10  24   4  -6\n",
      " -14  -4   8  12  10 -12 -12   4  -6  20   4 -18   2 -10  20   4 -18   2\n",
      "  -6  10  18   4 -16 -24 -12  12 -12  36  -2  20  20  18   6   4 -12 -14\n",
      "  -2 -14  -4 -16  16 -14  -2  -4  14 -10 -12 -10 -24  -2  22 -16 -10  36\n",
      "   0 -22  12   4 -34  -8 -30 -10  -4 -10  28  -4  34 -14  -4  24  -4  -6\n",
      " -14   4  20  14  22   4  10   2   2 -18  20 -12 -26  -6  10  12   2  12\n",
      "  -4  10  10   2  16  12  -4  32   2   4 -32   8  20  28  -2 -24  10   4\n",
      "   2 -12 -10   8   0 -16  12 -14   2  20  -8 -10  12  -2  10  16  20 -34\n",
      "  -4 -24  12 -12  -4 -22 -10   4 -20  -6  -4  -8 -12  10  -2 -14 -18   8\n",
      "  -8  -6   0  -2  -6  -6   6   8  -8  -8  28  -8  22 -10  -8  -6 -10   6\n",
      "  -6   4 -18  -6  18   2   6 -18  -6   4  10   6  12  14  12  10 -36   2\n",
      "  -6  -4  -4 -30  32  14   2  -6   0  12 -10 -10 -12   6 -18 -26 -20  -8\n",
      "  -6   4  12 -20  20   6   4  -6 -14   8  12   8 -14  16   8  -6  28  -8\n",
      "   6  10  -4   0 -12 -10 -12   8  -8   4  28   6 -14  12 -10  14   4  18\n",
      "  20   2 -14   0   6   0 -16 -16   0  16  18   0   0  14 -22 -12 -12 -22\n",
      "  20   2   4 -10 -16  12  18 -14  20  -6 -20   2  -8   6   6  22  10  10\n",
      "  -4 -22   6  -2 -26 -30 -10   8  12  -4   4 -20 -24 -28   2   4  18 -14\n",
      "  -6  24   0   4   4  14 -12  22  42 -16   4   2 -12 -16  -2  -2 -26   6\n",
      "  10  -4  24   8  24 -18  28  -8   6  14]\n",
      "[[ -1   0   1 ...  -8  -9 -10]\n",
      " [  1   2   1 ...  10  11  10]\n",
      " [ -1  -2  -3 ... -10  -9 -10]\n",
      " ...\n",
      " [  1   2   1 ... -10  -9  -8]\n",
      " [ -1   0  -1 ...   6   7   6]\n",
      " [  1   2   3 ...  14  13  14]]\n",
      "\n",
      "The mean of the squared distances at each step : \n",
      " [  1.      1.944   2.968   3.928   5.048   5.884   7.128   7.94    8.872\n",
      "  10.064  11.672  12.536  13.256  14.664  15.944  16.736  17.32   18.64\n",
      "  19.664  20.268  21.408  22.644  23.808  25.048  25.944  27.132  28.048\n",
      "  28.416  29.368  30.096  30.712  31.632  32.288  33.004  33.904  35.204\n",
      "  36.128  37.644  38.392  39.604  41.096  42.104  43.984  45.24   45.552\n",
      "  46.884  48.416  49.328  50.568  52.58   53.904  54.524  56.192  56.788\n",
      "  58.16   58.412  61.     61.436  62.64   63.64   63.832  66.98   67.68\n",
      "  68.936  69.704  71.6    72.176  73.036  74.2    75.188  75.304  76.512\n",
      "  77.552  78.424  79.44   79.796  80.28   81.156  82.568  83.824  84.168\n",
      "  86.04   86.12   88.104  88.376  89.4    89.968  90.508  90.624  91.836\n",
      "  92.784  94.288  95.24   95.52   96.216  96.944  97.84   98.24  100.32\n",
      " 101.824 102.576 103.54  104.696 107.152 107.952 109.004 110.696 111.68\n",
      " 111.824 112.548 113.56  114.168 115.776 116.344 117.824 119.6   119.744\n",
      " 119.164 118.776 119.264 119.968 121.472 122.68  123.296 125.16  126.844\n",
      " 127.424 126.764 128.384 128.984 130.064 131.876 131.944 132.964 134.368\n",
      " 136.204 137.392 137.764 137.952 137.752 139.312 140.58  141.608 142.92\n",
      " 144.136 145.224 147.256 147.944 147.928 150.092 150.912 153.844 155.488\n",
      " 156.044 157.728 158.692 159.984 160.872 161.616 161.552 163.112 163.052\n",
      " 163.184 163.656 165.632 166.808 168.296 167.7   168.24  168.864 169.664\n",
      " 170.96  172.952 173.444 174.616 176.488 179.032 178.776 178.984 179.32\n",
      " 179.816 180.532 180.784 182.172 182.976 184.16  184.792 185.684 186.008\n",
      " 187.076 187.216 188.316 187.728 188.68  189.776 191.624 191.808 193.764\n",
      " 194.696 197.404]\n"
     ]
    },
    {
     "data": {
      "image/png": "[encoded data removed]",
      "text/plain": [
       "<Figure size 504x504 with 1 Axes>"
      ]
     },
     "metadata": {
      "needs_background": "light"
     },
     "output_type": "display_data"
    }
   ],
   "source": [
    "rnd_process = np.random.randint(low = -1,high = 1,size= (1000,200))\n",
    "rnd_process[rnd_process == 0] = 1\n",
    "\n",
    "walker_distance = np.sum(rnd_process, axis = 1)\n",
    "walker_distance_sqr = np.square(walker_distance)\n",
    "\n",
    "print('\\nWalker_Distance:\\n',walker_distance)\n",
    "# print('Walker_Distance Squared:\\n',walker_distance_sqr)\n",
    "\n",
    "#square the distance at each step\n",
    "dist_at_each_step = np.cumsum(rnd_process, axis = 1)\n",
    "dist_at_each_step_square = np.square(dist_at_each_step)\n",
    "\n",
    "print(dist_at_each_step)\n",
    "\n",
    "#the mean along the columns\n",
    "mean_square_distances = np.mean(dist_at_each_step_square, axis = 0)\n",
    "print(\"\\nThe mean of the squared distances at each step : \\n\", mean_square_distances)\n",
    "\n",
    "#Plotting\n",
    "fig = plt.figure(figsize=(7,7))\n",
    "plt.plot(np.arange(200), np.mean(np.sqrt(dist_at_each_step_square),axis=0),'-g')\n",
    "plt.xlabel('Steps')\n",
    "plt.ylabel('Average distances')\n",
    "plt.show()"
   ]
  },
  {
   "cell_type": "code",
   "execution_count": null,
   "metadata": {},
   "outputs": [],
   "source": []
  }
 ],
 "metadata": {
  "kernelspec": {
   "display_name": "Python 3 (ipykernel)",
   "language": "python",
   "name": "python3"
  },
  "language_info": {
   "codemirror_mode": {
    "name": "ipython",
    "version": 3
   },
   "file_extension": ".py",
   "mimetype": "text/x-python",
   "name": "python",
   "nbconvert_exporter": "python",
   "pygments_lexer": "ipython3",
   "version": "3.9.12"
  }
 },
 "nbformat": 4,
 "nbformat_minor": 2
}
