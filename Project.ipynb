{
 "cells": [
  {
   "cell_type": "markdown",
   "metadata": {},
   "source": [
    "# Game of Life\n",
    "\n",
    "\n",
    "The [Game of Life](http://en.wikipedia.org/wiki/Conway's_Game_of_Life) (GoF) is a cellular automaton devised by the British mathematician John Horton Conway in 1970. The game is a zero-player game, meaning that its evolution is determined by its initial state, requiring no further input. One interacts with the Game of Life by creating an initial configuration and observing how it evolves, or, for advanced players, by creating patterns with particular properties.\n",
    "\n",
    "The universe of the Game of Life is an infinite two-dimensional orthogonal grid of square cells, each of which is in one of two possible states, live or dead. Every cell interacts with its eight neighbours, which are the cells that are directly horizontally, vertically, or diagonally adjacent. At each step in time, the following transitions occur:\n",
    "\n",
    "* Any live cell with fewer than two live neighbours dies, as if by underpopulation.\n",
    "* Any live cell with more than three live neighbours dies, as if by overcrowding.\n",
    "* Any live cell with two or three live neighbours lives, unchanged, to the next generation.\n",
    "* Any dead cell with exactly three live neighbours becomes a live cell.\n",
    "\n",
    "The initial pattern (generation 0) constitutes the \"seed\" of the system.\n",
    "Time is considered discrete, and each time step (sometimes called a tick), the previous rules are applied simultaneously to every cell in the grid; \"births\" and \"deaths\" are immediate.\n",
    "Each generation is a pure function of the previous generation alone.\n",
    "\n",
    "\n",
    "## Assignments\n",
    "\n",
    "* Begin by implementing the GoF's rules and create few examples with basic seeds in small dimensions. Hint: create `.gif` animations from sequences of still `.png` images\n",
    "* Implement examples of the three categories of patterns *still lifes*, *oscillators* and *spaceships* (check the [wiki link](http://en.wikipedia.org/wiki/Conway's_Game_of_Life))\n",
    "* Analyse the evolutions of these patterns in terms of frequency (the number of cycles required to return to the original configuration, if any), occupancy (how many alive cells there are at every step of the game), replication or heat (the average number of cells that change state at each generation), speed (if applicable), etc.\n",
    "* Increase the size of the GoF's world and play with more advanced and complex patterns"
   ]
  },
  {
   "cell_type": "code",
   "execution_count": 199,
   "metadata": {},
   "outputs": [],
   "source": [
    "import numpy as np\n",
    "import matplotlib.pyplot as plt\n",
    "from itertools import product\n",
    "from PIL import Image\n",
    "from IPython.display import HTML, display\n",
    "%matplotlib inline\n",
    "import matplotlib.animation as animation\n",
    "import warnings\n",
    "warnings.filterwarnings('ignore')"
   ]
  },
  {
   "cell_type": "markdown",
   "metadata": {},
   "source": [
    "## Create Starting Grid\n",
    "\n",
    "* Takes a initial pattern, grid size (N) and creates a grid by placing the pattern in the center of the grid\n",
    "* If the pattern size is greater than N, N = size of pattern"
   ]
  },
  {
   "cell_type": "code",
   "execution_count": 200,
   "metadata": {},
   "outputs": [],
   "source": [
    "def createStartingGrid(state, N = 50):\n",
    "    n = len(state)\n",
    "    if n > N: N = n\n",
    "    grid = np.zeros((N,N), dtype = int)\n",
    "    grid_mid = int(N/2)\n",
    "    patt_mid = int(n/2)\n",
    "    if n % 2 == 0:\n",
    "        grid[grid_mid-patt_mid:grid_mid+patt_mid,grid_mid-patt_mid:grid_mid+patt_mid] = state\n",
    "    else:\n",
    "        grid[grid_mid-patt_mid:grid_mid+patt_mid+1,grid_mid-patt_mid:grid_mid+patt_mid+1] = state\n",
    "    return grid"
   ]
  },
  {
   "cell_type": "markdown",
   "metadata": {},
   "source": [
    "## Count Cell Neighbours\n",
    "\n",
    "* Takes cell position in our grid (i,j), grid size (N) and the grid as input\n",
    "* Returns the number of live neighbours"
   ]
  },
  {
   "cell_type": "code",
   "execution_count": 201,
   "metadata": {},
   "outputs": [],
   "source": [
    "def neighbourCount(i,j,N,state = None):\n",
    "    count = 0\n",
    "    if type(state) == 'numpy.ndarray':\n",
    "        return None\n",
    "    else:\n",
    "        nei = []\n",
    "    # Iterate over the cells in the 3x3 area surrounding the cell\n",
    "        for c in product(*(range(n-1, n+2) for n in (i,j))):\n",
    "            # Check if the cell is not the original cell and within the bounds of the grid\n",
    "            if c != (i,j) and all(0 <= n < N for n in c):\n",
    "                # Add the state of the cell to the list of live neighbors\n",
    "                nei.append(state[c])\n",
    "        # Return the sum of the live neighbors\n",
    "        return np.sum(nei)\n",
    "\n"
   ]
  },
  {
   "cell_type": "markdown",
   "metadata": {},
   "source": [
    "## Calculate Next Generation\n",
    "\n",
    "* Takes the initial grid and return a new grid with the next generation"
   ]
  },
  {
   "cell_type": "code",
   "execution_count": 202,
   "metadata": {},
   "outputs": [],
   "source": [
    "def nextGeneration(init_state):\n",
    "    state = init_state.copy()\n",
    "    grid_size = len(state)\n",
    "    next_gen = (np.random.randint(1,size = grid_size**2)).reshape(grid_size,grid_size)\n",
    "    for i in range(grid_size):\n",
    "        for j in range(grid_size):\n",
    "            neigh = neighbourCount(i,j,grid_size,state)\n",
    "            if(neigh == 3 and state[i,j] == 0):\n",
    "                next_gen[i,j] = 1\n",
    "            elif((neigh == 2 or neigh == 3) and state[i,j] == 1):\n",
    "                next_gen[i,j] = 1\n",
    "            else:\n",
    "                next_gen[i,j] = 0\n",
    "    return next_gen\n",
    "        \n"
   ]
  },
  {
   "cell_type": "markdown",
   "metadata": {},
   "source": [
    "## Game of Life\n",
    "\n",
    "* Returns the list of generation over a period of time, given the initial grid (`0th Generation`) as input."
   ]
  },
  {
   "cell_type": "code",
   "execution_count": 227,
   "metadata": {},
   "outputs": [],
   "source": [
    "def gameOfLife(state, period = 20):\n",
    "        temp_state = state.copy()    \n",
    "        grid_seq = [temp_state]\n",
    "        grid_size = len(temp_state)\n",
    "        curr_gen = temp_state\n",
    "        for t in range(1,period):\n",
    "            next_gen = nextGeneration(curr_gen)\n",
    "            grid_seq.append(next_gen)\n",
    "            curr_gen = next_gen\n",
    "            if np.count_nonzero(next_gen) == 0:\n",
    "                break\n",
    "        return grid_seq"
   ]
  },
  {
   "cell_type": "markdown",
   "metadata": {},
   "source": [
    "## Create Gifs\n",
    "* Create gifs from the list of generations"
   ]
  },
  {
   "cell_type": "code",
   "execution_count": 204,
   "metadata": {},
   "outputs": [],
   "source": [
    "def createGifs(gen_list,pattern_name):\n",
    "    # Create new figure for GIF\n",
    "    fig, ax = plt.subplots()\n",
    "    # Adjust figure so GIF does not have extra whitespace\n",
    "    fig.subplots_adjust(left=0, bottom=0, right=1, top=1, wspace=None, hspace=None)\n",
    "    ax.axis('off')\n",
    "    ims = []\n",
    "\n",
    "    for gen in gen_list:\n",
    "        im = ax.imshow(gen)\n",
    "        ims.append([im])\n",
    "        \n",
    "    plt.close()\n",
    "    ani = animation.ArtistAnimation(fig, ims, interval=100)\n",
    "    ani.save('./gifs/'+pattern_name+'.gif')"
   ]
  },
  {
   "cell_type": "markdown",
   "metadata": {},
   "source": [
    "## Occupation\n",
    "\n",
    "* Number of alive cells at each generation"
   ]
  },
  {
   "cell_type": "code",
   "execution_count": 216,
   "metadata": {},
   "outputs": [],
   "source": [
    "def occupation(gen_list):\n",
    "    count = []\n",
    "    for gen in gen_list:\n",
    "        count.append(np.count_nonzero(gen))\n",
    "    fig, ax = plt.subplots()\n",
    "    time_steps = np.linspace(0, len(count), len(count), endpoint=True)\n",
    "    ax.plot(time_steps,count)\n",
    "    ax.set_xlabel('Generation')\n",
    "    ax.set_ylabel('No. of live cells')\n",
    "    ax.set_title('Occupancy')\n",
    "#     ax.set_xticks(range(0,len(count)+1))"
   ]
  },
  {
   "cell_type": "markdown",
   "metadata": {},
   "source": [
    "## Frequency\n",
    "* Number of cycles required to return to the original configuration"
   ]
  },
  {
   "cell_type": "code",
   "execution_count": null,
   "metadata": {},
   "outputs": [],
   "source": [
    "def frequency(gen_list):\n",
    "    period = 0\n",
    "    zero_gen = gen_list[0] # 0th Generation\n",
    "    for gen in gen_list[1:]:\n",
    "        "
   ]
  },
  {
   "cell_type": "markdown",
   "metadata": {},
   "source": [
    "## Replication/Heat\n",
    "\n",
    "* Number of cells that change state at each step"
   ]
  },
  {
   "cell_type": "code",
   "execution_count": 228,
   "metadata": {},
   "outputs": [],
   "source": [
    "def replication(gen_list):\n",
    "    heat = []\n",
    "    for i in range(0,len(gen_list)-1):\n",
    "        diff_result = gen_list[i] ^ gen_list[i+1]\n",
    "        heat.append(np.count_nonzero(diff_result))\n",
    "    return heat"
   ]
  },
  {
   "cell_type": "markdown",
   "metadata": {},
   "source": [
    "# Still Life"
   ]
  },
  {
   "cell_type": "markdown",
   "metadata": {},
   "source": [
    "## Block"
   ]
  },
  {
   "cell_type": "code",
   "execution_count": 206,
   "metadata": {},
   "outputs": [
    {
     "name": "stderr",
     "output_type": "stream",
     "text": [
      "MovieWriter ffmpeg unavailable; using Pillow instead.\n"
     ]
    }
   ],
   "source": [
    "block = np.array([\n",
    "    [1,1],\n",
    "    [1,1]\n",
    "    ])\n",
    "block_grid = createStartingGrid(block)\n",
    "gen_list = gameOfLife(block_grid)\n",
    "createGifs(gen_list,'block')"
   ]
  },
  {
   "cell_type": "code",
   "execution_count": 207,
   "metadata": {},
   "outputs": [
    {
     "data": {
      "image/png": "[encoded data removed]",
      "text/plain": [
       "<Figure size 432x288 with 1 Axes>"
      ]
     },
     "metadata": {
      "needs_background": "light"
     },
     "output_type": "display_data"
    }
   ],
   "source": [
    "occupation(gen_list)"
   ]
  },
  {
   "cell_type": "markdown",
   "metadata": {},
   "source": [
    "# Oscillators\n",
    "\n",
    "## 1. Toad"
   ]
  },
  {
   "cell_type": "code",
   "execution_count": 219,
   "metadata": {},
   "outputs": [
    {
     "name": "stderr",
     "output_type": "stream",
     "text": [
      "MovieWriter ffmpeg unavailable; using Pillow instead.\n"
     ]
    }
   ],
   "source": [
    "toad=np.array([\n",
    "    [0,0,0,0],\n",
    "    [0,1,1,1],\n",
    "    [1,1,1,0],\n",
    "    [0,0,0,0]\n",
    "    ])\n",
    "init_grid = createStartingGrid(toad)\n",
    "gen_list = gameOfLife(init_grid)\n",
    "createGifs(gen_list,'toad')"
   ]
  },
  {
   "cell_type": "code",
   "execution_count": 220,
   "metadata": {},
   "outputs": [
    {
     "data": {
      "image/png": "[encoded data removed]",
      "text/plain": [
       "<Figure size 432x288 with 1 Axes>"
      ]
     },
     "metadata": {
      "needs_background": "light"
     },
     "output_type": "display_data"
    }
   ],
   "source": [
    "occupation(gen_list)"
   ]
  },
  {
   "cell_type": "markdown",
   "metadata": {},
   "source": [
    "## 2. Beacon "
   ]
  },
  {
   "cell_type": "code",
   "execution_count": 221,
   "metadata": {},
   "outputs": [
    {
     "name": "stderr",
     "output_type": "stream",
     "text": [
      "MovieWriter ffmpeg unavailable; using Pillow instead.\n"
     ]
    }
   ],
   "source": [
    "beacon=np.array([\n",
    "    [1,1,0,0],\n",
    "    [1,1,0,0],\n",
    "    [0,0,1,1],\n",
    "    [0,0,1,1]\n",
    "    ])\n",
    "init_grid = createStartingGrid(beacon)\n",
    "gen_list = gameOfLife(init_grid)\n",
    "createGifs(gen_list,'beacon')"
   ]
  },
  {
   "cell_type": "code",
   "execution_count": 222,
   "metadata": {},
   "outputs": [
    {
     "data": {
      "image/png": "[encoded data removed]",
      "text/plain": [
       "<Figure size 432x288 with 1 Axes>"
      ]
     },
     "metadata": {
      "needs_background": "light"
     },
     "output_type": "display_data"
    }
   ],
   "source": [
    "occupation(gen_list)"
   ]
  },
  {
   "cell_type": "markdown",
   "metadata": {},
   "source": [
    "# Spaceships\n",
    "\n",
    "## 1. Glider\n"
   ]
  },
  {
   "cell_type": "code",
   "execution_count": 223,
   "metadata": {},
   "outputs": [
    {
     "data": {
      "text/html": [
       "<div style=\"display: flex; justify-content: row;\">\n",
       "    <img src=\"./gifs/glider.gif\">\n",
       "</div>"
      ],
      "text/plain": [
       "<IPython.core.display.HTML object>"
      ]
     },
     "metadata": {},
     "output_type": "display_data"
    }
   ],
   "source": [
    "display(HTML('''<div style=\"display: flex; justify-content: row;\">\n",
    "    <img src=\"./gifs/glider.gif\">\n",
    "</div>'''))"
   ]
  },
  {
   "cell_type": "code",
   "execution_count": 224,
   "metadata": {},
   "outputs": [
    {
     "name": "stderr",
     "output_type": "stream",
     "text": [
      "MovieWriter ffmpeg unavailable; using Pillow instead.\n"
     ]
    }
   ],
   "source": [
    "glider = np.array([\n",
    "    [0,0,1],\n",
    "    [1,0,1],\n",
    "    [0,1,1]\n",
    "    ])\n",
    "\n",
    "init_grid = createStartingGrid(glider)\n",
    "gen_list = gameOfLife(init_grid, period = 100)\n",
    "createGifs(gen_list,'glider')"
   ]
  },
  {
   "cell_type": "code",
   "execution_count": 225,
   "metadata": {},
   "outputs": [
    {
     "data": {
      "image/png": "[encoded data removed]",
      "text/plain": [
       "<Figure size 432x288 with 1 Axes>"
      ]
     },
     "metadata": {
      "needs_background": "light"
     },
     "output_type": "display_data"
    }
   ],
   "source": [
    "occupation(gen_list)"
   ]
  },
  {
   "cell_type": "code",
   "execution_count": null,
   "metadata": {},
   "outputs": [],
   "source": []
  }
 ],
 "metadata": {
  "kernelspec": {
   "display_name": "Python 3 (ipykernel)",
   "language": "python",
   "name": "python3"
  },
  "language_info": {
   "codemirror_mode": {
    "name": "ipython",
    "version": 3
   },
   "file_extension": ".py",
   "mimetype": "text/x-python",
   "name": "python",
   "nbconvert_exporter": "python",
   "pygments_lexer": "ipython3",
   "version": "3.9.12"
  }
 },
 "nbformat": 4,
 "nbformat_minor": 2
}
